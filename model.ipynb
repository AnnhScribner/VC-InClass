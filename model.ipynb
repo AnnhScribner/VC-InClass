{
 "cells": [
  {
   "cell_type": "code",
   "execution_count": null,
   "id": "ed821553",
   "metadata": {},
   "outputs": [],
   "source": [
    "# This is a notebook"
   ]
  }
 ],
 "metadata": {
  "language_info": {
   "name": "python"
  }
 },
 "nbformat": 4,
 "nbformat_minor": 5
}
